{
 "cells": [
  {
   "cell_type": "code",
   "execution_count": null,
   "metadata": {},
   "outputs": [],
   "source": [
    "#import all libraries to be used in the exercise\n",
    "import numpy as np\n",
    "import pandas as pd\n",
    "import os\n",
    "from sklearn.impute import SimpleImputer\n",
    "from sklearn.experimental import enable_iterative_imputer\n",
    "from sklearn.impute import IterativeImputer\n",
    "from sklearn.impute import KNNImputer\n",
    "import seaborn as sns\n",
    "import matplotlib.pyplot as plt\n",
    "import matplotlib.colors as mcolors\n",
    "from IPython.display import display, Markdown, Image\n",
    "import warnings\n",
    "warnings.filterwarnings(\"ignore\", category=FutureWarning)\n",
    "pd.set_option('display.max_columns', None)\n"
   ]
  },
  {
   "cell_type": "code",
   "execution_count": null,
   "metadata": {},
   "outputs": [],
   "source": [
    "#show the files in the folder I´m working in. This will help me to check that I have the right files to load.\n",
    "print(os.listdir()) "
   ]
  },
  {
   "cell_type": "code",
   "execution_count": null,
   "metadata": {},
   "outputs": [],
   "source": [
    "#Upload the files\n",
    "df_flights = pd.read_csv('Customer Flight Activity.csv' , sep=',')\n",
    "df_loyalty = pd.read_csv('Customer Loyalty History.csv' , sep=',')"
   ]
  },
  {
   "cell_type": "code",
   "execution_count": null,
   "metadata": {},
   "outputs": [],
   "source": [
    "#Show the construccion of each dataframe\n",
    "print(df_flights.info())\n",
    "print(df_loyalty.info())"
   ]
  },
  {
   "cell_type": "code",
   "execution_count": null,
   "metadata": {},
   "outputs": [],
   "source": [
    "#Verify the index of the dataframes is a custom index or a predefined numeric index\n",
    "print(df_flights.index)\n",
    "print(df_loyalty.index)"
   ]
  },
  {
   "cell_type": "code",
   "execution_count": null,
   "metadata": {},
   "outputs": [],
   "source": [
    "#Displays the first few rows of the dataframes so its structure can be checked\n",
    "display(df_flights.head())\n",
    "display(df_loyalty.head())"
   ]
  },
  {
   "cell_type": "code",
   "execution_count": null,
   "metadata": {},
   "outputs": [],
   "source": [
    "#Check if the columns names are correct\n",
    "print(df_flights.columns)\n",
    "print(df_loyalty.columns)"
   ]
  },
  {
   "cell_type": "code",
   "execution_count": null,
   "metadata": {},
   "outputs": [],
   "source": [
    "#Standardise column names in both dataframes, remove blank spaces, convert everything to lower case and replace spaces with underscores\n",
    "df_flights.columns = df_flights.columns.str.strip().str.lower().str.replace(\" \", \"_\")\n",
    "df_loyalty.columns = df_loyalty.columns.str.strip().str.lower().str.replace(\" \", \"_\")\n",
    "\n",
    "print(df_flights.columns)\n",
    "print(df_loyalty.columns)"
   ]
  },
  {
   "cell_type": "code",
   "execution_count": null,
   "metadata": {},
   "outputs": [],
   "source": [
    "#Show how many unique values there are in each column of the dataframes\n",
    "print(\"Number of unique values in Customer Flight Analysis:\")\n",
    "print(df_flights.nunique())\n",
    "\n",
    "print(\"Number of unique values in Customer Loyalty History:\")\n",
    "print(df_loyalty.nunique())"
   ]
  },
  {
   "cell_type": "code",
   "execution_count": null,
   "metadata": {},
   "outputs": [],
   "source": [
    "print(\"unique values in columm year:\", df_flights['year'].unique())\n",
    "print(\"unique values in columm month:\", df_flights['month'].unique())"
   ]
  },
  {
   "cell_type": "code",
   "execution_count": null,
   "metadata": {},
   "outputs": [],
   "source": [
    "#Check all the duplicated rows and count how many there are\n",
    "print(df_flights.duplicated().sum())   #means that there are 1864 duplicated rows que the same values.\n",
    "print(df_loyalty.duplicated().sum())"
   ]
  },
  {
   "cell_type": "code",
   "execution_count": null,
   "metadata": {},
   "outputs": [],
   "source": [
    "df_flights[df_flights.duplicated(keep=False)].head(50)"
   ]
  },
  {
   "cell_type": "code",
   "execution_count": null,
   "metadata": {},
   "outputs": [],
   "source": [
    "#Remove duplicates that are exactly the same, removing the extra copies if all columns are the same\n",
    "#and reset the index to avoid gaps after removing duplicates\n",
    "df_flights.drop_duplicates(inplace=True)\n",
    "df_flights.reset_index(drop=True, inplace=True)\n"
   ]
  },
  {
   "cell_type": "code",
   "execution_count": null,
   "metadata": {},
   "outputs": [],
   "source": [
    "#Run this code to check that the duplicates have been removed correctly. If it returns 0, there are no exact matches.\n",
    "print(df_flights.duplicated().sum())\n"
   ]
  },
  {
   "cell_type": "code",
   "execution_count": null,
   "metadata": {},
   "outputs": [],
   "source": [
    "#To manage duplicates with differences in some columns, we search for records that have the same loyalty_number, year and month, \n",
    "#but with different values in other columns.\n",
    "df_flights[df_flights.duplicated(subset=['loyalty_number', 'year', 'month'], keep=False)]"
   ]
  },
  {
   "cell_type": "code",
   "execution_count": null,
   "metadata": {},
   "outputs": [],
   "source": [
    "#Merge duplicate values\n",
    "df_flights = df_flights.groupby(['loyalty_number', 'year', 'month']).agg({\n",
    "    \"flights_booked\": \"sum\",\n",
    "    \"flights_with_companions\": \"sum\",\n",
    "    \"total_flights\": \"sum\",\n",
    "    \"distance\": \"sum\",\n",
    "    \"points_accumulated\": \"sum\",\n",
    "    \"points_redeemed\": \"sum\",\n",
    "    \"dollar_cost_points_redeemed\": \"sum\"}).reset_index()\n"
   ]
  },
  {
   "cell_type": "code",
   "execution_count": null,
   "metadata": {},
   "outputs": [],
   "source": [
    "#Select another option, like keeping only the rows with the most points. The code will be:\n",
    "#df_flights = df_flights.sort_values(by='points_accumulated', ascending=False).drop_duplicates(subset=['loyalty_number', 'year', 'month'], keep='first')\n"
   ]
  },
  {
   "cell_type": "code",
   "execution_count": null,
   "metadata": {},
   "outputs": [],
   "source": [
    "print(df_flights.info())"
   ]
  },
  {
   "cell_type": "code",
   "execution_count": null,
   "metadata": {},
   "outputs": [],
   "source": [
    "#I am interested in seeing the unique values to test my hypothesis, even though we already know that there are no duplicates in the customer loyalty history.\n",
    "text_columns = df_loyalty.select_dtypes(include=['object']).columns\n",
    "for column_object in text_columns:\n",
    "    print(f\"The singles values of the column {column_object} are:\")\n",
    "    print(df_loyalty[column_object].unique())"
   ]
  },
  {
   "cell_type": "code",
   "execution_count": null,
   "metadata": {},
   "outputs": [],
   "source": [
    "#The country column has only one value, which does not matter for me, so I will delete it.\n",
    "df_loyalty.drop(columns=['country'], inplace=True)\n",
    "print(df_loyalty.columns)"
   ]
  },
  {
   "cell_type": "code",
   "execution_count": null,
   "metadata": {},
   "outputs": [],
   "source": [
    "#To avoid errors in further analysis, I will normalise columns with categorical values: gender, education, marital_status, loyalty_card and enrolment_type.\n",
    "columns_to_standar = ['gender','education', 'marital_status', 'loyalty_card', 'enrollment_type']\n",
    "df_loyalty[columns_to_standar] = df_loyalty[columns_to_standar].apply(lambda x: x.str.strip().str.lower())\n"
   ]
  },
  {
   "cell_type": "code",
   "execution_count": null,
   "metadata": {},
   "outputs": [],
   "source": [
    "for column in columns_to_standar:\n",
    "    print(f\"The singles values normalise of the column {column} are: {df_loyalty[column].unique()}\")"
   ]
  },
  {
   "cell_type": "code",
   "execution_count": null,
   "metadata": {},
   "outputs": [],
   "source": [
    "#Once we have finished handling duplicates, we move on to managing nulls. \n",
    "#We have already seen that customer flight activity has no nulls, so we focus on customer loyalty history.\n",
    "#First, we must see where there are nulls so we can decide how to deal with them.\n",
    "df_loyalty.isnull().sum()\n"
   ]
  },
  {
   "cell_type": "code",
   "execution_count": null,
   "metadata": {},
   "outputs": [],
   "source": [
    "#We can calculate the percentage or make a bar chart to get an idea of the amount of nulls in the columns involved.\n",
    "columns_with_nulls = ['salary', 'cancellation_year', 'cancellation_month']\n",
    "nulls_ratio = np.round(df_loyalty[columns_with_nulls].isnull().mean()*100, 2)\n",
    "print(nulls_ratio)"
   ]
  },
  {
   "cell_type": "code",
   "execution_count": null,
   "metadata": {},
   "outputs": [],
   "source": [
    "plt.figure(figsize=(6, 4))\n",
    "sns.barplot(x=nulls_ratio.index, y=nulls_ratio.values)\n",
    "plt.ylabel(\"% of null values\")\n",
    "plt.title(\"Map of null values in Salary, Cancellation Year and Cancellation Month\")\n",
    "plt.show()"
   ]
  },
  {
   "cell_type": "code",
   "execution_count": null,
   "metadata": {},
   "outputs": [],
   "source": [
    "#We can also run some basic statistics to better understand how the data's distributed or to help identify problems.\n",
    "df_loyalty[['salary', 'cancellation_year', 'cancellation_month']].describe()"
   ]
  },
  {
   "cell_type": "code",
   "execution_count": null,
   "metadata": {},
   "outputs": [],
   "source": [
    "columns_with_nulls = ['salary', 'cancellation_year', 'cancellation_month']\n",
    "plt.figure(figsize=(6, 4))\n",
    "sns.heatmap(df_loyalty[columns_with_nulls].isnull(), cmap='Blues', cbar=False, yticklabels=False)\n",
    "plt.title(\"Map of null values in Salary, Cancellation Year and Cancellation Month\")\n",
    "plt.show()"
   ]
  },
  {
   "cell_type": "code",
   "execution_count": null,
   "metadata": {},
   "outputs": [],
   "source": [
    "#Planteamos la hipotesis de que los clientes con valores nulos en cancellation year y cancellation month no son errores, si no que son clientes que siguen siendo activos en el porgrama de fidelidad.\n",
    "cancelled_clients = df_loyalty[['cancellation_year', 'cancellation_month']].notnull().all(axis=1).value_counts()\n",
    "plt.figure(figsize=(6,4))\n",
    "plt.bar([\"nulls\", \"active\"], cancelled_clients.values)\n",
    "plt.xlabel(\"membership\")\n",
    "plt.ylabel(\"number of members\")\n",
    "plt.show()\n",
    "\n"
   ]
  },
  {
   "cell_type": "code",
   "execution_count": null,
   "metadata": {},
   "outputs": [],
   "source": [
    "plt.figure(figsize=(6, 4))\n",
    "sns.boxplot(x=df_loyalty['cancellation_year'].isnull(), y=df_loyalty['clv'])\n",
    "plt.xticks([0, 1], [\"unsubscrib members\", \"Active members\"])\n",
    "plt.ylabel(\"Customer Lifetime Value (CLV)\")\n",
    "plt.xlabel(\"Membership Status\")\n",
    "plt.title(\"Distribution of CLV between active and deleted customers\")\n",
    "plt.show()\n"
   ]
  },
  {
   "cell_type": "code",
   "execution_count": null,
   "metadata": {},
   "outputs": [],
   "source": [
    "#We replace null values with 0 to avoid problems with further analysis. Always remember that 0 means that the client is still active.\n",
    "df_loyalty['cancellation_year'] = df_loyalty['cancellation_year'].fillna(0)\n",
    "df_loyalty['cancellation_month'] = df_loyalty['cancellation_month'].fillna(0)\n"
   ]
  },
  {
   "cell_type": "code",
   "execution_count": null,
   "metadata": {},
   "outputs": [],
   "source": [
    "#We check that the replacements have been executed correctly.\n",
    "df_loyalty['cancellation_year'] = df_loyalty['cancellation_year'].astype(int)\n",
    "df_loyalty['cancellation_month'] = df_loyalty['cancellation_month'].astype(int)\n",
    "df_loyalty[['cancellation_year', 'cancellation_month']].info()\n",
    "df_loyalty[['cancellation_year', 'cancellation_month']].isnull().sum()"
   ]
  },
  {
   "cell_type": "code",
   "execution_count": null,
   "metadata": {},
   "outputs": [],
   "source": [
    "negative_salaries = (df_loyalty['salary'] < 0).sum()\n",
    "print(negative_salaries)"
   ]
  },
  {
   "cell_type": "code",
   "execution_count": null,
   "metadata": {},
   "outputs": [],
   "source": [
    "df_loyalty[df_loyalty['salary'] < 0]"
   ]
  },
  {
   "cell_type": "code",
   "execution_count": null,
   "metadata": {},
   "outputs": [],
   "source": [
    "df_loyalty.loc[df_loyalty['salary'] < 0, 'salary'] = np.nan"
   ]
  },
  {
   "cell_type": "code",
   "execution_count": null,
   "metadata": {},
   "outputs": [],
   "source": [
    "new_negative_salaries = (df_loyalty['salary'] < 0).sum()\n",
    "print(new_negative_salaries)"
   ]
  },
  {
   "cell_type": "code",
   "execution_count": null,
   "metadata": {},
   "outputs": [],
   "source": [
    "\n",
    "plt.figure(figsize=(8, 5))\n",
    "plt.hist(df_loyalty['salary'].dropna(), bins=30, edgecolor='black', alpha=0.7, log=True)\n",
    "plt.title(\"Distribución de Salary\")\n",
    "plt.xlabel(\"Salary\")\n",
    "plt.ylabel(\"Frecuencia\")\n",
    "plt.show()\n"
   ]
  },
  {
   "cell_type": "code",
   "execution_count": null,
   "metadata": {},
   "outputs": [],
   "source": [
    "plt.figure(figsize=(6, 4))\n",
    "sns.boxplot(x=df_loyalty['salary'])\n",
    "plt.xlabel(\"Salary\")\n",
    "plt.title(\"Possible outliers in salary distribution\")\n",
    "plt.show()\n"
   ]
  },
  {
   "cell_type": "code",
   "execution_count": null,
   "metadata": {},
   "outputs": [],
   "source": [
    "#To see how we can manage the null values in the salary column, we are going to make a series of comparisons with columns in the same table. \n",
    "#This will show us their relationship and whether they follow a pattern.\n",
    "plt.figure(figsize=(8, 5))\n",
    "sns.boxplot(x='education', y='salary', data=df_loyalty)\n",
    "plt.xticks(rotation=45)\n",
    "plt.title(\"Distribution of Salary by Education Level\")\n",
    "plt.show()\n",
    "\n"
   ]
  },
  {
   "cell_type": "code",
   "execution_count": null,
   "metadata": {},
   "outputs": [],
   "source": [
    "plt.figure(figsize=(12, 6))\n",
    "sns.boxplot(x='city', y='salary', data=df_loyalty)\n",
    "plt.xticks(rotation=90)\n",
    "plt.title(\"Salary Distribution by City \")\n",
    "plt.show()\n"
   ]
  },
  {
   "cell_type": "code",
   "execution_count": null,
   "metadata": {},
   "outputs": [],
   "source": [
    "plt.figure(figsize=(24, 6))\n",
    "sns.boxplot(x='postal_code', y='salary', data=df_loyalty)\n",
    "plt.xticks(rotation=90)\n",
    "plt.title(\"Salary Distribution by Postal Code \")\n",
    "plt.show()\n"
   ]
  },
  {
   "cell_type": "code",
   "execution_count": null,
   "metadata": {},
   "outputs": [],
   "source": [
    "plt.figure(figsize=(6, 4))\n",
    "sns.scatterplot(x='salary', y='clv', data=df_loyalty, alpha=0.5)\n",
    "plt.xlabel(\"Salary\")\n",
    "plt.ylabel(\"CLV\")\n",
    "plt.title(\"Salary and CLV ratios\")\n",
    "plt.show()\n"
   ]
  },
  {
   "cell_type": "code",
   "execution_count": null,
   "metadata": {},
   "outputs": [],
   "source": [
    "plt.figure(figsize=(6, 4))\n",
    "sns.barplot(x='enrollment_type', y='salary', data=df_loyalty, estimator=np.median)\n",
    "plt.title(\"Median Salary by Membership\")\n",
    "plt.show()\n"
   ]
  },
  {
   "cell_type": "code",
   "execution_count": null,
   "metadata": {},
   "outputs": [],
   "source": [
    "#To substitute missing values we will use IterativeImputer as it is the most complete method to replace null values.\n",
    "#These models cannot use categorical values so we will map relevant columns such as education or postal code to numerical ones before executing this technique.\n",
    "education_mapping ={'High School or Below': 0,\n",
    "                    'college': 1,\n",
    "                    'bachelor': 2,\n",
    "                    'master': 3,\n",
    "                    'doctor': 4}\n",
    "df_loyalty['education_number'] = df_loyalty['education'].map(education_mapping)\n",
    "\n",
    "df_loyalty['postal_code_number'], _ = df_loyalty['postal_code'].factorize()"
   ]
  },
  {
   "cell_type": "code",
   "execution_count": null,
   "metadata": {},
   "outputs": [],
   "source": [
    "df_loyalty[['education', 'education_number', 'postal_code', 'postal_code_number']].head(10)"
   ]
  },
  {
   "cell_type": "code",
   "execution_count": null,
   "metadata": {},
   "outputs": [],
   "source": [
    "print(df_loyalty.columns)\n"
   ]
  },
  {
   "cell_type": "code",
   "execution_count": null,
   "metadata": {},
   "outputs": [],
   "source": [
    "df_loyalty[['salary', 'clv']].describe()"
   ]
  },
  {
   "cell_type": "code",
   "execution_count": null,
   "metadata": {},
   "outputs": [],
   "source": [
    "\n",
    "colums_imputer = ['salary', 'clv', 'education_number', 'postal_code_number']\n",
    "imputer = IterativeImputer(max_iter=100, random_state=42)\n",
    "df_loyalty[colums_imputer] = imputer.fit_transform(df_loyalty[colums_imputer])"
   ]
  },
  {
   "cell_type": "code",
   "execution_count": null,
   "metadata": {},
   "outputs": [],
   "source": [
    "df_loyalty['salary'].isnull().sum()\n"
   ]
  },
  {
   "cell_type": "code",
   "execution_count": null,
   "metadata": {},
   "outputs": [],
   "source": [
    "df_loyalty[['salary', 'clv']].describe()"
   ]
  },
  {
   "cell_type": "code",
   "execution_count": null,
   "metadata": {},
   "outputs": [],
   "source": [
    "#we remove the columns that we have converted to numerical columns as we no longer need them.\n",
    "df_loyalty.drop(columns=['education_number', 'postal_code_number'], inplace=True)\n"
   ]
  },
  {
   "cell_type": "code",
   "execution_count": null,
   "metadata": {},
   "outputs": [],
   "source": [
    "#We will join the dataframes using the loyalty_number column. \n",
    "#We want to keep all the clients of df_loyalty and add the data of df_flights. So we will make a merge left join.\n",
    "df_merged = df_loyalty.merge(df_flights, on='loyalty_number', how=\"left\")"
   ]
  },
  {
   "cell_type": "code",
   "execution_count": null,
   "metadata": {},
   "outputs": [],
   "source": [
    "df_merged.info()"
   ]
  },
  {
   "cell_type": "code",
   "execution_count": null,
   "metadata": {},
   "outputs": [],
   "source": [
    "df_merged.sample(20)"
   ]
  },
  {
   "cell_type": "code",
   "execution_count": null,
   "metadata": {},
   "outputs": [],
   "source": [
    "#Export the new clean dataset to a CSV file\n",
    "df_merged.to_csv(\"airline_loyalty_programme.csv\", index=False)\n",
    "print(os.listdir()) "
   ]
  },
  {
   "cell_type": "code",
   "execution_count": null,
   "metadata": {},
   "outputs": [],
   "source": [
    "#there are columns that for the visualisation phase we don't care if they are joined, so let's proceed to join them.\n",
    "df_merged['enrollment_date'] = pd.to_datetime(df_merged['enrollment_year'].astype(str) + '-' + df_merged['enrollment_month'].astype(str) + '-01', format=\"%Y-%m-%d\")\n",
    "df_merged =df_merged.drop(columns=['enrollment_year', 'enrollment_month'])\n",
    "col_position = df_merged.columns.get_loc('cancellation_year')\n",
    "df_merged.insert(col_position, 'enrollment_date', df_merged.pop('enrollment_date'))\n",
    "df_merged = df_merged.set_index('loyalty_number')\n",
    "df_merged.sample(15)\n",
    "\n"
   ]
  },
  {
   "cell_type": "markdown",
   "metadata": {},
   "source": [
    "### ❓ Question 1: Distribution of the number of flights booked per month during each year"
   ]
  },
  {
   "cell_type": "code",
   "execution_count": null,
   "metadata": {},
   "outputs": [],
   "source": [
    "flights_month_and_year =df_flights.groupby(['year', 'month'])['flights_booked'].sum().reset_index()\n",
    "print(flights_month_and_year)"
   ]
  },
  {
   "cell_type": "markdown",
   "metadata": {},
   "source": [
    "📈 **Why do we use this chart?**  \n",
    "A line chart is useful when we want to see trends or fluctuations over time. In this case, we are interested in seeing how the number of flights changes month by month, and a line connecting them will help us identify peaks in specific months.  \n"
   ]
  },
  {
   "cell_type": "markdown",
   "metadata": {},
   "source": [
    "🔍  **What does the chart tell us?**\n",
    "\n",
    "The graph shows the distribution of booked flights per month during the years 2017 and 2018.  \n",
    "A seasonal trend is evident, with a progressive increase from February to July, followed by a decline from August to November.  \n",
    "July is the month with the highest number of bookings, indicating high summer demand.  \n",
    "Another peak occurs in December, likely due to the holiday or year-end season.  \n",
    "2018 shows a higher number of bookings in all months compared to 2017.  \n"
   ]
  },
  {
   "cell_type": "code",
   "execution_count": null,
   "metadata": {},
   "outputs": [],
   "source": [
    "flights_month_and_year =df_flights.groupby(['year', 'month'])['flights_booked'].sum().reset_index()\n",
    "plt.figure(figsize=(10,4))\n",
    "sns.lineplot(x='month', y='flights_booked', hue='year', data=flights_month_and_year, marker=\"o\", linewidth=2, markersize=6)\n",
    "plt.title(\"Distribution of flights booked per month and year\")\n",
    "plt.xticks(ticks=range(1, 13))\n",
    "plt.xlabel(\"Month\")\n",
    "plt.ylabel(\"Flights booked\")\n",
    "plt.legend(title='Year')\n",
    "plt.grid(True, alpha=0.5)\n"
   ]
  },
  {
   "cell_type": "markdown",
   "metadata": {},
   "source": [
    "📉 **Why do we use this chart?**  \n",
    "A bar chart helps us compare the number of flights per month in a structured way. It clearly shows the differences between months.  "
   ]
  },
  {
   "cell_type": "markdown",
   "metadata": {},
   "source": [
    "🔍  **What does the chart tell us?**\n",
    "\n",
    "This graph represents the same data but in bar format.  \n",
    "It confirms the increase in flight bookings during summer and December.  \n",
    "The bars for 2018 are consistently higher than those for 2017, confirming the overall growth in reservations.  \n",
    "The difference between the two years is most noticeable in June, July, and December—key months for the airline’s growth.  "
   ]
  },
  {
   "cell_type": "code",
   "execution_count": null,
   "metadata": {},
   "outputs": [],
   "source": [
    "flights_month_and_year =df_flights.groupby(['year', 'month'])['flights_booked'].sum().reset_index()\n",
    "plt.figure(figsize=(10,4))\n",
    "sns.barplot(x='month', y='flights_booked', hue='year', data=flights_month_and_year)\n",
    "plt.title(\"Distribution of flights booked per month and year\")\n",
    "plt.xticks(ticks=range(1, 13))\n",
    "plt.xlabel(\"Month\")\n",
    "plt.ylabel(\"Flights booked\")\n",
    "plt.legend(title='Year')\n",
    "plt.grid(True, alpha=0.5)"
   ]
  },
  {
   "cell_type": "markdown",
   "metadata": {},
   "source": [
    "🔚  **Summing-up**\n",
    "\n",
    "Both graphs confirm a seasonal booking pattern and the overall growth in 2018 compared to 2017.  "
   ]
  },
  {
   "cell_type": "markdown",
   "metadata": {},
   "source": [
    "💬  ***Strategy for the Company***\n",
    "\n",
    "- **Optimize pricing and special offers.**  \n",
    "- **Introduce discounts or promotions** during low-demand months to stimulate bookings.  \n",
    "- **Adjust high-demand fares** to maximize revenue.  \n",
    "- **Increase flight frequency** during peak season to take advantage of demand.  \n",
    "- **Plan aircraft maintenance** during the low season to ensure operational efficiency in peak months.   "
   ]
  },
  {
   "cell_type": "markdown",
   "metadata": {},
   "source": [
    "**-------------------------------------------**"
   ]
  },
  {
   "cell_type": "markdown",
   "metadata": {},
   "source": [
    "### ❓ Question 2: Is there a connection between flight distance and points accumulated?"
   ]
  },
  {
   "cell_type": "markdown",
   "metadata": {},
   "source": [
    "📈 **Why do we use this chart?**  \n",
    "A scatter plot helps us visualize how individual points are distributed and whether there is a relationship between them.  "
   ]
  },
  {
   "cell_type": "markdown",
   "metadata": {},
   "source": [
    "🔍 **What Does the Chart Tell Us?**\n",
    "\n",
    "The graph shows the relationship between flight distance and accumulated points, differentiating between the three types of loyalty cards (Star, Nova, and Aurora).\n",
    "\n",
    "We observe a clear relationship: the greater the distance, the more flight points are accumulated.\n",
    "\n",
    "Different Slopes Observed\n",
    "- Star (purple points) appears to grant fewer points per distance traveled.\n",
    "- Aurora (orange points) seems to accumulate more points than Star.\n",
    "- Nova (pink points) is the card that accumulates the most points per distance, which could indicate that it is the highest-tier card.\n",
    "\n",
    "There are some outliers, with accumulated points significantly higher than the general distance trend.\n",
    "\n"
   ]
  },
  {
   "cell_type": "code",
   "execution_count": null,
   "metadata": {},
   "outputs": [],
   "source": [
    "plt.figure(figsize=(10, 6))\n",
    "sns.scatterplot(x=\"distance\", y=\"points_accumulated\", hue=\"loyalty_card\", data= df_merged, marker=\"o\", palette=\"rocket\")\n",
    "plt.xlabel(\"Flight´s distance\")\n",
    "plt.ylabel(\"Accumulated points\")\n",
    "plt.title(\"Ratio between flight distance and accumulated points\")\n",
    "plt.grid(True)\n"
   ]
  },
  {
   "cell_type": "markdown",
   "metadata": {},
   "source": [
    "📉 **Why do we use this chat?**  \n",
    "A linear regression plot adds a regression line to the scatter plot, helping us see if there is a trend and to separate variables to analyze specific patterns.  \n"
   ]
  },
  {
   "cell_type": "markdown",
   "metadata": {},
   "source": [
    "🔍 **What Does the Chart Tell Us?**\n",
    "\n",
    "It is confirmed that there is a direct relationship between miles traveled and accumulated points.\n",
    "It is also confirmed that the loyalty cards differ by status, with Star accumulating the fewest points, Aurora being an intermediate category, and Nova being the premium category."
   ]
  },
  {
   "cell_type": "code",
   "execution_count": null,
   "metadata": {},
   "outputs": [],
   "source": [
    "sns.lmplot(x=\"distance\", y=\"points_accumulated\", hue=\"loyalty_card\", data=df_merged, markers=\"o\", height=6, aspect=1.5, palette=\"rocket\", scatter_kws={\"alpha\": 0.3, \"s\": 50}, line_kws={\"linewidth\":3})\n",
    "plt.xlabel(\"Flight´s distance\")\n",
    "plt.ylabel(\"Accumulated points\")\n",
    "plt.title(\"Ratio between flight distance and accumulated points\")"
   ]
  },
  {
   "cell_type": "markdown",
   "metadata": {},
   "source": [
    "🔚 **Summing-up**\n",
    "\n",
    "Both graphs show that distance directly influences the number of points. Higher-tier customers (Nova) receive greater rewards for the same distance traveled."
   ]
  },
  {
   "cell_type": "markdown",
   "metadata": {},
   "source": [
    "💬  **Strategy for the Company**\n",
    "\n",
    "Optimizing the Loyalty Program:\n",
    "\n",
    "Evaluate whether the differences between loyalty cards are attractive enough to encourage customers to fly more or upgrade their level.\n",
    "\n",
    "Introduce double points accumulation bonuses during specific low-season periods.\n",
    "\n",
    "Create exclusive promotions that allow long-haul flights to accumulate more points, encouraging customers to choose the airline for transoceanic flights.\n",
    "\n",
    "Implement bonus points campaigns in low-demand months for lower-tier customers."
   ]
  },
  {
   "cell_type": "markdown",
   "metadata": {},
   "source": [
    "**---------------------------------------------------------**"
   ]
  },
  {
   "cell_type": "markdown",
   "metadata": {},
   "source": [
    "### ❓ Question 3: What is the distribution of clients by province and state?"
   ]
  },
  {
   "cell_type": "code",
   "execution_count": null,
   "metadata": {},
   "outputs": [],
   "source": [
    "members_province = df_loyalty[\"province\"].value_counts()\n",
    "print(members_province)\n"
   ]
  },
  {
   "cell_type": "markdown",
   "metadata": {},
   "source": [
    "📈 **Why do we use this chart?**  \n",
    "A bar chart is very clear for comparing the number of clients in each province. "
   ]
  },
  {
   "cell_type": "markdown",
   "metadata": {},
   "source": [
    "🔍  **What does the chart tell us?**\n",
    "\n",
    "We observe the number of customers distributed by province, with a strong concentration in Ontario, BC, and Quebec. On the other hand, provinces like Prince Edward Island, Yukon, and Newfoundland have a significantly lower share compared to the main regions.  \n",
    "This suggests that the airline has a highly concentrated geographical presence.  "
   ]
  },
  {
   "cell_type": "code",
   "execution_count": null,
   "metadata": {},
   "outputs": [],
   "source": [
    "plt.figure(figsize=(12, 6))\n",
    "members_province.plot(kind=\"bar\", color=\"pink\", edgecolor=\"purple\", linewidth=3)\n",
    "plt.xlabel(\"Province\")\n",
    "plt.xticks(rotation=45)\n",
    "plt.ylabel(\"Number of clients\")\n",
    "plt.title(\"Ratio clients by province\")\n",
    "plt.grid(True, alpha=0.5)\n"
   ]
  },
  {
   "cell_type": "markdown",
   "metadata": {},
   "source": [
    "📊 **Why do we use this chart?**  \n",
    "By flipping the chart and adding percentages, interpretation becomes easier, and it is useful if the number of clients varies significantly between provinces.  "
   ]
  },
  {
   "cell_type": "markdown",
   "metadata": {},
   "source": [
    "🔍  **What does the chart tell us?**\n",
    "\n",
    "Representing the relative proportion of customers in each province instead of the absolute number helps us compare it with the total population distribution in Canada (according to the 2021 Census) and assess the loyalty program's penetration in each province.  \n",
    "Provinces with a negative result, such as Ontario, Quebec, or Alberta, indicate lower program penetration. This could suggest a lack of incentives or lower interest due to strong competition. Additionally, Alberta is one of the wealthiest provinces in Canada, presenting a significant opportunity to attract new customers.  \n",
    "BC’s high ratio indicates strong success in the region.  \n",
    "Smaller provinces show a participation level similar to their population proportion.  \n"
   ]
  },
  {
   "cell_type": "code",
   "execution_count": null,
   "metadata": {},
   "outputs": [],
   "source": [
    "members_percentage = (members_province / members_province.sum()) * 100\n",
    "members_percentage = members_percentage.sort_values(ascending=True)\n",
    "plt.figure(figsize=(10, 6))\n",
    "ax = sns.barplot(x=members_percentage, y=members_percentage.index, palette=\"Purples_r\")\n",
    "for container in ax.containers:\n",
    "    ax.bar_label(container, fmt=\"%.1f%%\", padding=5, fontsize=10)\n",
    "plt.xlabel(\"Percentage of Clients\")\n",
    "plt.ylabel(\"Province\")\n",
    "plt.title(\"Percentage of Clients by Province\")\n",
    "plt.xlim(0, max(members_percentage) + 5) \n",
    "plt.grid(axis=\"x\", linestyle=\"--\", alpha=0.5)\n",
    "\n"
   ]
  },
  {
   "cell_type": "markdown",
   "metadata": {},
   "source": [
    "📉 **Why do we use this chart?**  \n",
    "The variable 'salary' is displayed in a violin plot, which provides a visual representation of the distribution of salaries across each province. The wider the graph points in an area, the higher the concentration of individuals earning that particular salary in that province..  "
   ]
  },
  {
   "cell_type": "markdown",
   "metadata": {},
   "source": [
    "🔍  **What does the chart tell us?**\n",
    "\n",
    "It is interesting to analyze the salary range according to the population of each province. Ontario, Alberta, and BC have the widest salary distribution. These provinces have a diverse customer base due to their large populations and strong economies.  \n",
    "Manitoba and New Brunswick have smaller economies, resulting in less salary dispersion.  \n",
    "Yukon, however, shows a broad salary distribution due to its diversified economy, geographical location, and small population.  "
   ]
  },
  {
   "cell_type": "code",
   "execution_count": null,
   "metadata": {},
   "outputs": [],
   "source": [
    "plt.figure(figsize=(12, 10))\n",
    "sns.violinplot(y=\"province\", x=\"salary\", data=df_loyalty, palette=\"light:#95A_r\", scale=\"width\")\n",
    "plt.xlabel(\"Salary distribution\")\n",
    "plt.ylabel(\"Province\")\n",
    "plt.title(\"Salary distribution by province\")\n",
    "plt.grid(True, alpha=0.5)\n",
    "plt.show()"
   ]
  },
  {
   "cell_type": "code",
   "execution_count": null,
   "metadata": {},
   "outputs": [],
   "source": [
    "from IPython.display import display, Markdown, Image\n",
    "\n",
    "display(Markdown(\"### Canada Data\"))\n",
    "display(Image(\"Imagen/2025-03-10.png\", width=400, height=300))"
   ]
  },
  {
   "cell_type": "markdown",
   "metadata": {},
   "source": [
    "🔚  **Summing-up**\n",
    "\n",
    "Most customers come from three key provinces: Ontario, BC, and Quebec, which together account for 78.3% of the customer base. These regions also exhibit a broader salary distribution, indicating higher purchasing power.  \n",
    "The fact that the loyalty program's penetration is not proportional to each province’s population suggests opportunities for expansion and the need for province-specific strategies. \n"
   ]
  },
  {
   "cell_type": "markdown",
   "metadata": {},
   "source": [
    "💬  ***Strategy for the Company***\n",
    "\n",
    "**Expand the loyalty program’s presence** in Ontario, Quebec, and Alberta by offering exclusive benefits at airports or launching targeted communication campaigns in key sectors like business and tourism.  \n",
    "**Leverage BC’s success** and strengthen customer loyalty. Analyze what has worked well in BC to determine if similar strategies can be implemented in other provinces.  \n",
    "**Increase representation in underperforming provinces** by introducing personalized incentives such as regional flight discounts, new route development, or collaborations with local governments.  "
   ]
  },
  {
   "cell_type": "markdown",
   "metadata": {},
   "source": [
    "**----------------------------------------------**"
   ]
  },
  {
   "cell_type": "markdown",
   "metadata": {},
   "source": [
    "### ❓ Question 4: Compare the average salary by education level"
   ]
  },
  {
   "cell_type": "code",
   "execution_count": null,
   "metadata": {},
   "outputs": [],
   "source": [
    "salary_by_education = df_loyalty.groupby(\"education\")[\"salary\"].mean().round(2).sort_values()\n",
    "print(salary_by_education)\n"
   ]
  },
  {
   "cell_type": "markdown",
   "metadata": {},
   "source": [
    "📊 **Why do we use this chart?**  \n",
    "A bar chart helps us clearly compare the average salary for each education level.  "
   ]
  },
  {
   "cell_type": "markdown",
   "metadata": {},
   "source": [
    "🔍  **What does the chart tell us?**\n",
    "\n",
    "The chart indicates that, in general, a higher level of education corresponds to a higher average salary. Additionally, the difference between intermediate levels (bachelor's and college) is smaller compared to the gap between a master's and a doctorate.\n",
    "\n",
    "One important detail is that, in Canada, college and bachelor's refer to two different levels of post-secondary education. College typically includes technical education programs (similar to vocational training or associate degrees in other countries, such as diplomatura or FP in Spain), whereas a bachelor's degree corresponds to a full university degree.\n",
    "\n",
    "Therefore, this difference in average salaries may be influenced by the technical nature of college programs, in contrast to the more academic training provided by bachelor's degrees."
   ]
  },
  {
   "cell_type": "code",
   "execution_count": null,
   "metadata": {},
   "outputs": [],
   "source": [
    "df_salary = salary_by_education.reset_index() \n",
    "plt.figure(figsize=(10, 6))\n",
    "ax = sns.barplot(data=df_salary, x=\"education\", y=\"salary\", color=\"#6C8E68\", edgecolor=\"#8e686e\", linewidth=5)\n",
    "ax.bar_label(ax.containers[0], fmt=\"%.2f\", fontsize=10, color=\"black\", padding=5)\n",
    "plt.xlabel(\"Education\")\n",
    "plt.ylabel(\"Average Salary\")\n",
    "plt.title(\"A Comparison of Average Salaries by Educational Level\")\n",
    "plt.grid(axis=\"y\", linestyle=\"--\", alpha=0.7)\n",
    "plt.xticks(rotation=45)\n"
   ]
  },
  {
   "cell_type": "markdown",
   "metadata": {},
   "source": [
    "📈 **Why do we use this chart?**  \n",
    "A boxplot also allows us to see the full distribution of salaries within each education level, as well as outliers.  "
   ]
  },
  {
   "cell_type": "markdown",
   "metadata": {},
   "source": [
    "🔍  **What does the chart tell us?**\n",
    "\n",
    "The salary range for college is more uniform, indicating that salaries tend to be consistent across the board with minimal variance.\n",
    "\n",
    "In contrast, the Bachelor's degree salary range exhibits significant dispersion, likely attributable to the wide range of salaries achievable with university qualifications. These outliers suggest that, in certain cases, these professionals can attain remarkably high salaries.\n",
    "\n",
    "The high school distribution is relatively concentrated, with minimal income dispersion. Some outliers may be attributed to extended career trajectories or entrepreneurial endeavours."
   ]
  },
  {
   "cell_type": "code",
   "execution_count": null,
   "metadata": {},
   "outputs": [],
   "source": [
    "\n",
    "sns.boxplot(x=df_loyalty[\"education\"], y=df_loyalty[\"salary\"], \n",
    "            boxprops={\"facecolor\": \"#6C8E68\", \"edgecolor\": \"#8E686E\", \"linewidth\": 2},\n",
    "            medianprops={\"color\": \"#403033\", \"linewidth\": 2},  \n",
    "            whiskerprops={\"color\": \"#8E686E\", \"linewidth\": 2}, \n",
    "            capprops={\"color\": \"#8E686E\", \"linewidth\": 2},\n",
    "            flierprops={\"marker\": \"o\", \"color\": \"#8E686E\", \"alpha\": 0.5})  \n",
    "plt.xlabel(\"Educational Attainment\")\n",
    "plt.ylabel(\"Income\")\n",
    "plt.title(\"Income and Educational Attainment Structure\")\n",
    "plt.grid(True, alpha=0.5, linestyle=\"--\")\n",
    "plt.xticks(rotation=45)\n",
    "\n",
    "\n",
    "\n"
   ]
  },
  {
   "cell_type": "code",
   "execution_count": null,
   "metadata": {},
   "outputs": [],
   "source": [
    "#We are going to see the same graph only with the college data in order to see it properly.\n",
    "df_college = df_loyalty[df_loyalty[\"education\"] == \"college\"]\n",
    "plt.figure(figsize=(6, 6))\n",
    "sns.boxplot(y=df_college[\"salary\"], \n",
    "            boxprops={\"facecolor\": \"#6C8E68\", \"edgecolor\": \"#8E686E\", \"linewidth\": 2},\n",
    "            medianprops={\"color\": \"#403033\", \"linewidth\": 2},\n",
    "            whiskerprops={\"color\": \"#8E686E\", \"linewidth\": 2},  # Bigotes\n",
    "            capprops={\"color\": \"#8E686E\", \"linewidth\": 2},\n",
    "            flierprops={\"marker\": \"o\", \"markerfacecolor\": \"#8E686E\", \"alpha\": 0.5})\n",
    "plt.ylabel(\"Income\")\n",
    "plt.title(\"Income Distribution for College Education Level\")\n",
    "plt.grid(True, alpha=0.5, linestyle=\"--\")"
   ]
  },
  {
   "cell_type": "markdown",
   "metadata": {},
   "source": [
    "📊 **Why do we use this chart?**  \n",
    "A bar chart is a useful tool for visualising wage data. By breaking down wages into specific ranges and displaying the number of customers in each range, it provides clear insights into the distribution of wages."
   ]
  },
  {
   "cell_type": "markdown",
   "metadata": {},
   "source": [
    "🔍  **What does the chart tell us?**\n",
    "\n",
    "The salary range for college is more unifor"
   ]
  },
  {
   "cell_type": "code",
   "execution_count": null,
   "metadata": {},
   "outputs": [],
   "source": [
    "salary_bins = [0, 50000, 100000, 150000, 200000, 250000, 300000, 400000]\n",
    "df_loyalty[\"salary_range\"] = pd.cut(df_loyalty[\"salary\"], bins=salary_bins)\n",
    "plt.figure(figsize=(10,6))\n",
    "df_loyalty[\"salary_range\"].value_counts().sort_index().plot(kind=\"bar\", color=\"#6C8E68\", edgecolor=\"black\", alpha=0.7)\n",
    "plt.xlabel(\"Salary Range\")\n",
    "plt.ylabel(\"Number of Clients\")\n",
    "plt.title(\"Client Distribution by Salary Range\")\n",
    "plt.xticks(rotation=45)\n",
    "plt.grid(axis=\"y\", alpha=0.5, linestyle=\"--\")\n",
    "plt.show()\n"
   ]
  },
  {
   "cell_type": "markdown",
   "metadata": {},
   "source": [
    "🔚 **Summing-up**\n",
    "\n",
    "As a general guideline we can define that higher education opens the door to higher salaries, but only a small percentage of people reach extremely high levels. PhDs have the highest salary dispersion which can be interesting for premium strategies. It is very important to note that most of the loyalty programme base is focused on a single salary range."
   ]
  },
  {
   "cell_type": "markdown",
   "metadata": {},
   "source": [
    "💬  **Strategy for the Company**\n",
    "\n",
    "It would be beneficial to create targeted promotions based on educational attainment and salary stability. \n",
    "For example, college and bachelor customers could be offered benefits such as points accumulation, promotions on domestic flights, or discounts on work routes. \n",
    "For customers with master's and doctoral degrees, we could define premium services, priority access, or other exclusive loyalty programmes.\n",
    "\n",
    "Given that the majority of customers are in the mid-range, it is essential to focus efforts on benefits that are accessible to the majority of customers, as they are the ones who sustain the programme, with flexible fares and incentives for distance-based loyalty."
   ]
  },
  {
   "cell_type": "markdown",
   "metadata": {},
   "source": [
    "**--------------------------------------------------**"
   ]
  },
  {
   "cell_type": "markdown",
   "metadata": {},
   "source": [
    "### ❓ Question 5: What is the percentage of clients for each type of loyalty card?\n"
   ]
  },
  {
   "cell_type": "code",
   "execution_count": null,
   "metadata": {},
   "outputs": [],
   "source": [
    "loyalty_counts = df_loyalty[\"loyalty_card\"].value_counts(normalize=True) * 100\n",
    "print(loyalty_counts)\n"
   ]
  },
  {
   "cell_type": "markdown",
   "metadata": {},
   "source": [
    "📈 **Why do we use this chart?**  \n",
    "A pie chart is useful because it shows the proportion of each type of card. It is very intuitive.  "
   ]
  },
  {
   "cell_type": "markdown",
   "metadata": {},
   "source": [
    "🔍  **What does the chart tell us?**\n",
    "\n",
    "The STAR card is the most widely used card, making it the most popular among its customer base, as illustrated by graph two. This suggests that it is the basic card, AURORA the intermediate card and NOVA the premium card.\n",
    "\n",
    "As the entry-level category, the STAR card has the highest percentage of customers.NOVA has a fairly high proportion for the premium category, indicating that a significant number of customers value the exclusive benefits.\n",
    "\n",
    "The striking fact is the percentage of AURORA customers, since if it is the transition category it should have more customers than NOVA. This may be because many customers jump from Star to Nova without going through AURORA.\n"
   ]
  },
  {
   "cell_type": "code",
   "execution_count": null,
   "metadata": {},
   "outputs": [],
   "source": [
    "plt.figure(figsize=(7, 5))\n",
    "colors = [\"#dbb770\", \"#db7094\", \"#db8270\", \"gold\"]\n",
    "wedges, texts, autotexts = plt.pie(loyalty_counts, labels=loyalty_counts.index, autopct=\"%1.1f%%\", colors=colors, startangle=140, wedgeprops={\"edgecolor\": \"#f1debd\", \"linewidth\": 2.5})\n",
    "for text, color in zip(texts, colors):\n",
    "    text.set_text(text.get_text().upper()) \n",
    "    text.set_color(color) \n",
    "    text.set_fontsize(12) \n",
    "plt.title(\"Customer Distribution by Type of Loyalty Card\", pad=30)\n",
    "plt.axis(\"equal\")"
   ]
  },
  {
   "cell_type": "markdown",
   "metadata": {},
   "source": [
    "🔚 **Summing-up**\n",
    "\n",
    "The benefits of STAR and NOVA should be analysed and compared with those of AURORA to see if adjustments are needed."
   ]
  },
  {
   "cell_type": "markdown",
   "metadata": {},
   "source": [
    "💬  **Strategy for the Company**\n",
    "\n",
    "In order to encourage customers to upgrade from STAR to AURORA and then to NOVA, it would be advisable to implement incentives such as welcome bonuses, flight discounts or temporary promotions.\n",
    "\n",
    "It is also recommended that strategies are customised according to customer profile, using data to identify who stays on STAR and who upgrades fast, and sending them personalised offers based on their flight history and spending patterns."
   ]
  },
  {
   "cell_type": "markdown",
   "metadata": {},
   "source": [
    "**------------------------------------------------**"
   ]
  },
  {
   "cell_type": "markdown",
   "metadata": {},
   "source": [
    "### ❓ Question 6: How are clients distributed according to marital status and gender?"
   ]
  },
  {
   "cell_type": "code",
   "execution_count": null,
   "metadata": {},
   "outputs": [],
   "source": [
    "\n",
    "marital_gender_counts = df_loyalty.groupby([\"marital_status\", \"gender\"]).size().unstack()\n",
    "print(marital_gender_counts)\n"
   ]
  },
  {
   "cell_type": "markdown",
   "metadata": {},
   "source": [
    "📊 **Why do we use this chart?**  \n",
    "A bar plot clearly shows how many clients belong to each marital status and their gender distribution.  "
   ]
  },
  {
   "cell_type": "markdown",
   "metadata": {},
   "source": [
    "🔍  **What does the chart tell us?**\n"
   ]
  },
  {
   "cell_type": "code",
   "execution_count": null,
   "metadata": {},
   "outputs": [],
   "source": [
    "plt.figure(figsize=(6, 4))\n",
    "marital_gender_counts.plot(kind=\"bar\", figsize=(10, 6), color=[\"#c7c4ff\", \"#c4dfff\"], edgecolor=\"#ffc7c4\")\n",
    "plt.xlabel(\"Marital Status\")\n",
    "plt.ylabel(\"Number of clients\")\n",
    "plt.title(\"Distribution of Clients by Marital Status and Gender\")\n",
    "plt.xticks(rotation=45)\n",
    "plt.legend(title=\"Gender\")\n",
    "plt.grid(axis=\"y\", linestyle=\"--\", alpha=0.7)\n"
   ]
  },
  {
   "cell_type": "markdown",
   "metadata": {},
   "source": [
    "📉 **Why do we use this chart?**  \n",
    "If we remove the gender variable, a pie chart quickly shows the distribution of clients by marital status only.  "
   ]
  },
  {
   "cell_type": "markdown",
   "metadata": {},
   "source": [
    "🔍  **What does the chart tell us?**"
   ]
  },
  {
   "cell_type": "code",
   "execution_count": null,
   "metadata": {},
   "outputs": [],
   "source": [
    "marital_counts = df_loyalty[\"marital_status\"].value_counts()\n",
    "plt.figure(figsize=(6, 4))\n",
    "explode = [0.05] * len(marital_counts)\n",
    "wedges, texts, autotexts = plt.pie(marital_counts, labels=marital_counts.index, autopct=\"%1.1f%%\", colors=plt.cm.Pastel2.colors, startangle=140, explode=explode)\n",
    "for text, color in zip(texts, colors):\n",
    "    text.set_text(text.get_text().upper()) \n",
    "    text.set_color(color) \n",
    "    text.set_fontsize(12) \n",
    "plt.title(\"Customers by Marital Status\", pad=30)\n",
    "plt.axis(\"equal\")"
   ]
  },
  {
   "cell_type": "markdown",
   "metadata": {},
   "source": [
    "📈 **Why do we use this chart?**  \n",
    "By integrating a numerical variable like `salary`, we can use a violin plot to visualize the salary distribution within each marital status. \n",
    "This helps analyze whether the loyalty program presents salary inequalities between men and women within each marital category.  "
   ]
  },
  {
   "cell_type": "markdown",
   "metadata": {},
   "source": [
    "🔍  **What does the chart tell us?**"
   ]
  },
  {
   "cell_type": "code",
   "execution_count": null,
   "metadata": {},
   "outputs": [],
   "source": [
    "plt.figure(figsize=(10, 6))\n",
    "sns.violinplot(x=\"marital_status\", y=\"salary\", hue=\"gender\", data=df_loyalty, palette=[\"#c7c4ff\", \"#c4dfff\"], scale=\"count\")\n",
    "plt.xlabel(\"Marital Status\")\n",
    "plt.ylabel(\"Salary Distribution\")\n",
    "plt.title(\"Salary distribution by marital status and gender\")\n",
    "plt.show()"
   ]
  },
  {
   "cell_type": "markdown",
   "metadata": {},
   "source": [
    "🔚 **Summing-up**"
   ]
  },
  {
   "cell_type": "markdown",
   "metadata": {},
   "source": [
    "💬  **Strategy for the Company**"
   ]
  },
  {
   "cell_type": "markdown",
   "metadata": {},
   "source": [
    "**-------------------------------------------------**"
   ]
  }
 ],
 "metadata": {
  "kernelspec": {
   "display_name": "base",
   "language": "python",
   "name": "python3"
  },
  "language_info": {
   "codemirror_mode": {
    "name": "ipython",
    "version": 3
   },
   "file_extension": ".py",
   "mimetype": "text/x-python",
   "name": "python",
   "nbconvert_exporter": "python",
   "pygments_lexer": "ipython3",
   "version": "3.12.7"
  }
 },
 "nbformat": 4,
 "nbformat_minor": 2
}
